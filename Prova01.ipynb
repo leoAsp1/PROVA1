{
 "cells": [
  {
   "cell_type": "code",
   "execution_count": null,
   "id": "0eb48cd8-be89-4135-9926-2169b54634e9",
   "metadata": {
    "scrolled": true
   },
   "outputs": [],
   "source": [
    "a = int(input(\"Digite o primeiro valor: \"))\n",
    "b = int(input(\"Digite o segundo valor: \"))\n",
    "c = int(input(\"Digite o terceiro valor: \"))\n",
    "\n",
    "if(a < 0) or (b < 0) or (c < 0):\n",
    "    print(\"Erro. Tente valores positivos!\")\n",
    "\n",
    "else:\n",
    "    MA1 = ((b + c) / 2)\n",
    "    MA2 = ((a + c) / 2)\n",
    "    MA3 = ((a + b) / 2)\n",
    "    \n",
    "    if(a < b) and (a < c):\n",
    "        print(\"MA =\",b ,\"+\", c, \"/ 2\")\n",
    "        print(MA1)\n",
    "\n",
    "    elif(b < a) and (b < c):\n",
    "        print(\"MA =\",a ,\"+\", c, \"/ 2\")\n",
    "        print(MA2)\n",
    "\n",
    "    elif(c < a) and (c < b):\n",
    "        print(\"MA =\",a ,\"+\", b, \"/ 2\")\n",
    "        print(MA3)"
   ]
  }
 ],
 "metadata": {
  "kernelspec": {
   "display_name": "Python [conda env:base] *",
   "language": "python",
   "name": "conda-base-py"
  },
  "language_info": {
   "codemirror_mode": {
    "name": "ipython",
    "version": 3
   },
   "file_extension": ".py",
   "mimetype": "text/x-python",
   "name": "python",
   "nbconvert_exporter": "python",
   "pygments_lexer": "ipython3",
   "version": "3.12.7"
  }
 },
 "nbformat": 4,
 "nbformat_minor": 5
}
